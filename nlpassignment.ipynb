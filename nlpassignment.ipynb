{
  "nbformat": 4,
  "nbformat_minor": 0,
  "metadata": {
    "colab": {
      "provenance": [],
      "authorship_tag": "ABX9TyP5birC+tZ93uKQlT819XYq",
      "include_colab_link": true
    },
    "kernelspec": {
      "name": "python3",
      "display_name": "Python 3"
    },
    "language_info": {
      "name": "python"
    }
  },
  "cells": [
    {
      "cell_type": "markdown",
      "metadata": {
        "id": "view-in-github",
        "colab_type": "text"
      },
      "source": [
        "<a href=\"https://colab.research.google.com/github/Rishabh-441/Deep_Learning_Models/blob/main/nlpassignment.ipynb\" target=\"_parent\"><img src=\"https://colab.research.google.com/assets/colab-badge.svg\" alt=\"Open In Colab\"/></a>"
      ]
    },
    {
      "cell_type": "code",
      "execution_count": 1,
      "metadata": {
        "id": "Doq5d2YE9b6q"
      },
      "outputs": [],
      "source": [
        "#Question 1"
      ]
    },
    {
      "cell_type": "code",
      "source": [
        "x = [3,2,0,5]\n",
        "y = [1,0,0,0]\n",
        "\n",
        "def cosineSimilarity(x, y) :\n",
        "  num = 1\n",
        "  den1 = 0\n",
        "  den2 = 0\n",
        "  for i in range(len(x)):\n",
        "    num = num + x[i] * y[i]\n",
        "    den1 = den1 + x[i] ** 2\n",
        "    den2 = den2 + x[i] ** 2\n",
        "  den = (den1 ** 0.5) * (den2 ** 0.5)\n",
        "  return num / den\n",
        "\n",
        "cosineSimilarity(x, y)"
      ],
      "metadata": {
        "colab": {
          "base_uri": "https://localhost:8080/"
        },
        "id": "_LRlSlp69he9",
        "outputId": "d998e2f5-fdc3-4b2e-8d09-604055ebf1d1"
      },
      "execution_count": 2,
      "outputs": [
        {
          "output_type": "execute_result",
          "data": {
            "text/plain": [
              "0.10526315789473686"
            ]
          },
          "metadata": {},
          "execution_count": 2
        }
      ]
    },
    {
      "cell_type": "code",
      "source": [
        "#Question 2"
      ],
      "metadata": {
        "id": "b3l7jmXwAQvw"
      },
      "execution_count": 3,
      "outputs": []
    },
    {
      "cell_type": "code",
      "source": [
        "a = [0,1,2,5,6]\n",
        "b = [0,2,3,5,7,9]\n",
        "\n",
        "def jaccardSimilarity(a, b):\n",
        "  a = set(a)\n",
        "  b = set(b)\n",
        "  inter = len(a & b)\n",
        "  uni = len(a | b)\n",
        "  return inter/uni\n",
        "\n",
        "jaccardSimilarity(a, b)"
      ],
      "metadata": {
        "colab": {
          "base_uri": "https://localhost:8080/"
        },
        "id": "nnVPnwId9hi3",
        "outputId": "0f6f54dc-c2ac-49a7-f289-95d466f1da61"
      },
      "execution_count": 40,
      "outputs": [
        {
          "output_type": "execute_result",
          "data": {
            "text/plain": [
              "0.375"
            ]
          },
          "metadata": {},
          "execution_count": 40
        }
      ]
    },
    {
      "cell_type": "code",
      "source": [
        "#Question 3"
      ],
      "metadata": {
        "id": "wD-2cTcV9hmu"
      },
      "execution_count": 8,
      "outputs": []
    },
    {
      "cell_type": "code",
      "source": [
        "import nltk\n",
        "nltk.download('punkt')\n",
        "d1 = \"Jack London traveled to Oakland\"\n",
        "d2 = \"Jack London traveled to the city of Oakland\"\n",
        "d3 = \"Jack traveled from Oakland to London\"\n",
        "\n",
        "def formBigram(d):\n",
        "  nltk_tokens = nltk.word_tokenize(d)  \t\n",
        "  return list(nltk.bigrams(nltk_tokens))\n",
        "\n",
        "def jaccardSimilarityBigram(d1, d2):\n",
        "  d1 = formBigram(d1)\n",
        "  d2 = formBigram(d2)\n",
        "  return jaccardSimilarity(d1, d2)\n",
        "\n",
        "print(jaccardSimilarityBigram(d1, d2))\n",
        "print(jaccardSimilarityBigram(d1, d3))"
      ],
      "metadata": {
        "colab": {
          "base_uri": "https://localhost:8080/"
        },
        "id": "LLt9yelrDav1",
        "outputId": "b9fb3a6e-30c7-493e-c2bc-37222447dc2f"
      },
      "execution_count": 45,
      "outputs": [
        {
          "output_type": "stream",
          "name": "stdout",
          "text": [
            "0.375\n",
            "0.0\n"
          ]
        },
        {
          "output_type": "stream",
          "name": "stderr",
          "text": [
            "[nltk_data] Downloading package punkt to /root/nltk_data...\n",
            "[nltk_data]   Package punkt is already up-to-date!\n"
          ]
        }
      ]
    },
    {
      "cell_type": "code",
      "source": [
        "#Question 4"
      ],
      "metadata": {
        "id": "OVHF76lgDa4U"
      },
      "execution_count": 15,
      "outputs": []
    },
    {
      "cell_type": "code",
      "source": [
        "d1 = \"I am Sam.\"\n",
        "d2 = \"Sam I am.\"\n",
        "d3 = \"I do not like green eggs and ham.\"\n",
        "d4 = \"I do not like them, Sam I am.\"\n",
        "\n",
        "#unigram\n",
        "def unigramShingles(d1, d2, d3, d4):\n",
        "  d1 = set(nltk.word_tokenize(d1))  \t\n",
        "  d2 = set(nltk.word_tokenize(d2))  \t\n",
        "  d3 = set(nltk.word_tokenize(d3))  \t\n",
        "  d4 = set(nltk.word_tokenize(d4))  \t\n",
        "  nltk_tokens = d1 | d2 | d3 | d4\n",
        "  return nltk_tokens\n",
        "  # return list(nltk.unigrams(nltk_tokens))\n",
        "\n",
        "\n",
        "# k = 1 shingles\n",
        "print(unigramShingles(d1, d2, d3, d4))\n",
        "\n",
        "def bigramShingles(d1, d2, d3, d4):\n",
        "  d1 = set(nltk.word_tokenize(d1))  \t\n",
        "  d2 = set(nltk.word_tokenize(d2))  \t\n",
        "  d3 = set(nltk.word_tokenize(d3))  \t\n",
        "  d4 = set(nltk.word_tokenize(d4))  \t\n",
        "  nltk_tokens = d1 | d2 | d3 | d4\n",
        "  return list(nltk.bigrams(nltk_tokens))\n",
        "\n",
        "# k = 2 shingles\n",
        "print(bigramShingles(d1, d2, d3, d4))\n",
        "\n",
        "\n",
        "#caharacter shingles:\n",
        "def characterShingle(d, n):\n",
        "  arr = []\n",
        "  str = \"\"\n",
        "  for i in range(len(d)):\n",
        "    ch = d[i]\n",
        "    if ch != ' ' and ch != ',' and ch != '.':\n",
        "      str = str + ch\n",
        "    if (len(str) == n or i == len(d) - 1):\n",
        "      if (str != '') :\n",
        "        arr.append(str)\n",
        "      str = \"\"\n",
        "  return arr\n",
        "\n",
        "\n",
        "def unionCharacterShingles(d1, d2, d3, d4, n):\n",
        "  d1 = set(characterShingle(d1, n))\n",
        "  d2 = set(characterShingle(d2, n))\n",
        "  d3 = set(characterShingle(d3, n))\n",
        "  d4 = set(characterShingle(d4, n))\n",
        "\n",
        "  return d1 | d2 | d3 | d4\n",
        "\n",
        "\n",
        "print(unionCharacterShingles(d1, d2, d3, d4, 3))\n",
        "print(unionCharacterShingles(d1, d2, d3, d4, 4))\n"
      ],
      "metadata": {
        "colab": {
          "base_uri": "https://localhost:8080/"
        },
        "id": "3rhXL3PLDbD0",
        "outputId": "360783b8-95bf-4e5c-b9b0-b6d973d6dc23"
      },
      "execution_count": 27,
      "outputs": [
        {
          "output_type": "stream",
          "name": "stdout",
          "text": [
            "{'.', 'do', 'not', 'and', ',', 'them', 'green', 'like', 'eggs', 'ham', 'am', 'Sam', 'I'}\n",
            "[('.', 'do'), ('do', 'not'), ('not', 'and'), ('and', ','), (',', 'them'), ('them', 'green'), ('green', 'like'), ('like', 'eggs'), ('eggs', 'ham'), ('ham', 'am'), ('am', 'Sam'), ('Sam', 'I')]\n",
            "{'eth', 'Iam', 'egr', 'lik', 'not', 'egg', 'm', 'am', 'een', 'Sam', 'san', 'amI', 'emS', 'dha', 'Ido'}\n",
            "{'Idon', 'eene', 'am', 'm', 'ggsa', 'kegr', 'IamS', 'keth', 'otli', 'ndha', 'emSa', 'SamI', 'mIam'}\n"
          ]
        }
      ]
    },
    {
      "cell_type": "code",
      "source": [
        "#Question 5"
      ],
      "metadata": {
        "id": "BaYoeAHL9hpH"
      },
      "execution_count": 28,
      "outputs": []
    },
    {
      "cell_type": "code",
      "source": [
        "d = \"abcdabd\"\n",
        "arr = []\n",
        "for i in range(len(d) - 1):\n",
        "  arr.append(d[i:i+2])\n",
        "print(arr)"
      ],
      "metadata": {
        "colab": {
          "base_uri": "https://localhost:8080/"
        },
        "id": "mdlV1SqmTJFq",
        "outputId": "8281fe45-9eb2-4988-9645-edeaaa9408ea"
      },
      "execution_count": 30,
      "outputs": [
        {
          "output_type": "stream",
          "name": "stdout",
          "text": [
            "['ab', 'bc', 'cd', 'da', 'ab', 'bd']\n"
          ]
        }
      ]
    },
    {
      "cell_type": "code",
      "source": [
        "#Question 7"
      ],
      "metadata": {
        "id": "dtNTEjGdTJIc"
      },
      "execution_count": 32,
      "outputs": []
    },
    {
      "cell_type": "code",
      "source": [
        "from nltk.util import ngrams\n",
        "d = \"a rose is a rose is a rose\"\n",
        "trigram = ngrams(d.split(), 3)\n",
        "fourGram = ngrams(d.split(), 4)\n",
        "print(list(trigram))\n",
        "print(list(fourGram))"
      ],
      "metadata": {
        "colab": {
          "base_uri": "https://localhost:8080/"
        },
        "id": "JB34bqrwTJLI",
        "outputId": "c0b91024-2a17-4748-9993-48f47923b18b"
      },
      "execution_count": 34,
      "outputs": [
        {
          "output_type": "stream",
          "name": "stdout",
          "text": [
            "[('a', 'rose', 'is'), ('rose', 'is', 'a'), ('is', 'a', 'rose'), ('a', 'rose', 'is'), ('rose', 'is', 'a'), ('is', 'a', 'rose')]\n",
            "[('a', 'rose', 'is', 'a'), ('rose', 'is', 'a', 'rose'), ('is', 'a', 'rose', 'is'), ('a', 'rose', 'is', 'a'), ('rose', 'is', 'a', 'rose')]\n"
          ]
        }
      ]
    },
    {
      "cell_type": "code",
      "source": [
        "#Question 8"
      ],
      "metadata": {
        "id": "kFavQMZGTJOt"
      },
      "execution_count": 35,
      "outputs": []
    },
    {
      "cell_type": "code",
      "source": [
        "def wordSimilarity(s1, s2):\n",
        "  ans = jaccardSimilarity(s1, s2)\n",
        "  return ans\n",
        "\n",
        "print(wordSimilarity(\"night\", \"nacht\"))\n",
        "print(wordSimilarity(\"Ashish\", \"Aasheesh\"))"
      ],
      "metadata": {
        "colab": {
          "base_uri": "https://localhost:8080/"
        },
        "id": "zEtcGhCDomv-",
        "outputId": "c39896ef-0f39-4959-bc59-5c7c4374879f"
      },
      "execution_count": 44,
      "outputs": [
        {
          "output_type": "stream",
          "name": "stdout",
          "text": [
            "0.42857142857142855\n",
            "0.5\n"
          ]
        }
      ]
    },
    {
      "cell_type": "code",
      "source": [],
      "metadata": {
        "id": "B81A1x7_omzC"
      },
      "execution_count": null,
      "outputs": []
    },
    {
      "cell_type": "code",
      "source": [],
      "metadata": {
        "id": "ivwK9egbom2a"
      },
      "execution_count": null,
      "outputs": []
    },
    {
      "cell_type": "code",
      "source": [],
      "metadata": {
        "id": "5Qw3nEBL9hro"
      },
      "execution_count": null,
      "outputs": []
    }
  ]
}